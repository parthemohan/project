{
 "cells": [
  {
   "cell_type": "code",
   "execution_count": null,
   "metadata": {},
   "outputs": [],
   "source": [
    "%cd\n",
    "%cd desktop/im\n",
    "#storing all cropped images' names to a list\n",
    "import subprocess\n",
    "proc=subprocess.Popen('ls', shell=True, stdout=subprocess.PIPE, )\n",
    "output=proc.communicate()[0]\n",
    "output=output.decode('utf-8').split('\\n')\n",
    "output=list(output)"
   ]
  },
  {
   "cell_type": "code",
   "execution_count": null,
   "metadata": {},
   "outputs": [],
   "source": [
    "from PIL import Image\n",
    "from io import BytesIO\n",
    "#image_name will be a list of all file names\n",
    "#image_number will be the Number Plate content\n",
    "image_name=[]\n",
    "image_number=[]\n",
    "# Replace <Subscription Key> with your valid subscription key for Microsoft Vision API.\n",
    "subscription_key = \"e8d0ef46bf7a4964b7d58675fc135aa0\"\n",
    "assert subscription_key\n",
    "vision_base_url = \"https://westcentralus.api.cognitive.microsoft.com/vision/v2.0/\"\n",
    "ocr_url = vision_base_url + \"ocr\"\n",
    "for x in output:\n",
    "    try:\n",
    "        image_url = x\n",
    "        image_data = open(image_url, \"rb\").read()\n",
    "        headers = {'Ocp-Apim-Subscription-Key': subscription_key, 'Content-Type': 'application/octet-stream'}\n",
    "        params = {'language': 'unk', 'detectOrientation': 'true'}\n",
    "        data = {'url': image_url}\n",
    "        response = requests.post(ocr_url, headers=headers, params=params, data = image_data)\n",
    "        response.raise_for_status()\n",
    "\n",
    "        analysis = response.json()\n",
    "        line_infos = [region[\"lines\"] for region in analysis[\"regions\"]]\n",
    "        word_infos = []\n",
    "        for line in line_infos:\n",
    "             for word_metadata in line:\n",
    "                    for word_info in word_metadata[\"words\"]:\n",
    "                              word_infos.append(word_info)\n",
    "        label=[]\n",
    "        for word in word_infos:\n",
    "              label.append(word[\"text\"])\n",
    "        image_number.append(label)\n",
    "        image_name.append(image_url)\n",
    "    except:\n",
    "        pass\n",
    "  "
   ]
  }
 ],
 "metadata": {
  "kernelspec": {
   "display_name": "Python 3",
   "language": "python",
   "name": "python3"
  },
  "language_info": {
   "codemirror_mode": {
    "name": "ipython",
    "version": 3
   },
   "file_extension": ".py",
   "mimetype": "text/x-python",
   "name": "python",
   "nbconvert_exporter": "python",
   "pygments_lexer": "ipython3",
   "version": "3.7.3"
  }
 },
 "nbformat": 4,
 "nbformat_minor": 2
}
