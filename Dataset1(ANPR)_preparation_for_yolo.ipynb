{
 "cells": [
  {
   "cell_type": "code",
   "execution_count": null,
   "metadata": {},
   "outputs": [],
   "source": [
    "#move to the directory where ANPR dataset present and creating list of names of all XML files\n",
    "import subprocess\n",
    "proc=subprocess.Popen('ls', shell=True, stdout=subprocess.PIPE, )\n",
    "output=proc.communicate()[0]\n",
    "output=output.decode('utf-8').split('\\n')\n",
    "output=list(output)\n",
    "output=[x for x in output if x.split('.')[-1]=='xml']"
   ]
  },
  {
   "cell_type": "code",
   "execution_count": null,
   "metadata": {},
   "outputs": [],
   "source": [
    "#creating text file for each image with coordinates of Numberplate for training YOLO \n",
    "import xml.etree.ElementTree as ET\n",
    "for x in output:\n",
    "        stat=[0,0,0,0,0,0]\n",
    "        tree = ET.parse(str(x))\n",
    "        root = tree.getroot()\n",
    "        for child in root.findall('size'):\n",
    "                stat[0]=round(float(child.find('width').text),4)\n",
    "                stat[1]=round(float(child.find('height').text),4)\n",
    "        for child in root.findall('object'):\n",
    "               for child2 in child.findall('bndbox'):\n",
    "                        stat[2]=round(float(child2.find('xmin').text),4)\n",
    "                        stat[3]=round(float(child2.find('ymin').text),4)\n",
    "                        stat[4]=round(float(child2.find('xmax').text),4)\n",
    "                        stat[5]=round(float(child2.find('ymax').text),4)\n",
    "        x=x.split('.')[0]\n",
    "        with open(str(x)+'.txt','w') as file:\n",
    "            center_x=round((stat[2]+stat[4])/(2*stat[0]),4)\n",
    "            center_y=round((stat[3]+stat[5])/(2*stat[1]),4)\n",
    "            width=round(abs(stat[2]-stat[4])/stat[0],4)\n",
    "            height=round(abs(stat[3]-stat[5])/stat[1],4)\n",
    "            file.write('0 '+str(center_x)+\" \"+str(center_y)+\" \"+str(width)+\" \"+str(height)+\" \\n\")\n",
    "            \n"
   ]
  }
 ],
 "metadata": {
  "kernelspec": {
   "display_name": "Python 3",
   "language": "python",
   "name": "python3"
  },
  "language_info": {
   "codemirror_mode": {
    "name": "ipython",
    "version": 3
   },
   "file_extension": ".py",
   "mimetype": "text/x-python",
   "name": "python",
   "nbconvert_exporter": "python",
   "pygments_lexer": "ipython3",
   "version": "3.7.3"
  }
 },
 "nbformat": 4,
 "nbformat_minor": 2
}
