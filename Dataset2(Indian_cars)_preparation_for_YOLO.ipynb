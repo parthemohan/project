{
 "cells": [
  {
   "cell_type": "code",
   "execution_count": null,
   "metadata": {},
   "outputs": [],
   "source": [
    "import json\n",
    "data=[]\n",
    "with open('plate.json') as file:\n",
    "    for x in file:\n",
    "         data.append(file.readline())"
   ]
  },
  {
   "cell_type": "code",
   "execution_count": null,
   "metadata": {},
   "outputs": [],
   "source": [
    "import ast\n",
    "data=[x.split('\\n')[0] for x in data]\n",
    "import re\n",
    "data=[re.sub('null','None',x) for x in data]\n",
    "data=[eval(x) for x in data[:-1]]\n",
    "data=pd.DataFrame(data)"
   ]
  },
  {
   "cell_type": "code",
   "execution_count": null,
   "metadata": {},
   "outputs": [],
   "source": [
    "%cd vehicle\n",
    "for x,y in data.iterrows():\n",
    "    z=y['content']\n",
    "    !wget -O $x'.jpg' $z"
   ]
  },
  {
   "cell_type": "code",
   "execution_count": null,
   "metadata": {},
   "outputs": [],
   "source": [
    "def data_extractor(x,flag):\n",
    "    z=x[0]\n",
    "    if flag=='label':\n",
    "        return z['label'][0]\n",
    "    if flag=='notes':\n",
    "        return z['notes']\n",
    "    if flag=='points':\n",
    "        return z['points']\n",
    "    if flag=='imageWidth':\n",
    "        return z['imageWidth']\n",
    "    if flag=='imageHeight':\n",
    "        return z['imageHeight']\n",
    "data['labels']=data['annotation'].transform(lambda f:data_extractor(f,'label'))\n",
    "data['notes']=data['annotation'].transform(lambda f:data_extractor(f,'notes'))\n",
    "data['points']=data['annotation'].transform(lambda f:data_extractor(f,'points'))\n",
    "data['imageWidth']=data['annotation'].transform(lambda f:data_extractor(f,'imageWidth'))\n",
    "data['imageHeight']=data['annotation'].transform(lambda f:data_extractor(f,'imageHeight'))"
   ]
  },
  {
   "cell_type": "code",
   "execution_count": null,
   "metadata": {},
   "outputs": [],
   "source": [
    "data=data.drop(['annotation','extras','notes','labels'],axis=1)\n",
    "def dim(x):\n",
    "    a=x[0]\n",
    "    b=x[1]\n",
    "    return [round(a['x']+b['x'],4)/2.0,round(a['y']+b['y'],4)/2.0,round(abs(b['x']-a['x']),4),round(abs(b['y']-a['y']),4)]\n",
    "data['txt']=data['points'].transform(lambda f:dim(f))    \n",
    "   "
   ]
  },
  {
   "cell_type": "code",
   "execution_count": null,
   "metadata": {},
   "outputs": [],
   "source": [
    "import subprocess\n",
    "proc=subprocess.Popen('ls', shell=True, stdout=subprocess.PIPE, )\n",
    "output=proc.communicate()[0]\n",
    "output=output.decode('utf-8').split('\\n')\n",
    "output=list(output)"
   ]
  },
  {
   "cell_type": "code",
   "execution_count": null,
   "metadata": {},
   "outputs": [],
   "source": [
    "for x,y in data.iterrows():\n",
    "    with open(str(x)+'.txt','w') as file:\n",
    "        z=y['txt']\n",
    "        file.write('0 '+str(z[0])+\" \"+str(z[1])+\" \"+str(z[2])+\" \"+str(z[3])+\" \\n\")"
   ]
  }
 ],
 "metadata": {
  "kernelspec": {
   "display_name": "Python 3",
   "language": "python",
   "name": "python3"
  },
  "language_info": {
   "codemirror_mode": {
    "name": "ipython",
    "version": 3
   },
   "file_extension": ".py",
   "mimetype": "text/x-python",
   "name": "python",
   "nbconvert_exporter": "python",
   "pygments_lexer": "ipython3",
   "version": "3.7.3"
  }
 },
 "nbformat": 4,
 "nbformat_minor": 2
}
